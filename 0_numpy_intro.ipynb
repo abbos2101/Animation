{
  "cells": [
    {
      "cell_type": "markdown",
      "metadata": {
        "id": "-N5P-xCWvk3V"
      },
      "source": [
        "![Imgur](https://i.imgur.com/5pXzCIu.png)"
      ]
    },
    {
      "cell_type": "markdown",
      "metadata": {
        "id": "HBvyt9sFvpiv"
      },
      "source": [
        "# Data Science va Sun'iy Intellekt Praktikum\n",
        "\n",
        "## Ma'lumotlar tahlili. (NumPy kutubxonasi)"
      ]
    },
    {
      "cell_type": "markdown",
      "metadata": {
        "id": "hrKdSszlvt-I"
      },
      "source": [
        "### NumPy kutubxonasini chaqirib olish"
      ]
    },
    {
      "cell_type": "code",
      "execution_count": 3,
      "metadata": {
        "id": "DgrHlI8b-qIf"
      },
      "outputs": [],
      "source": [
        "import numpy as np"
      ]
    },
    {
      "cell_type": "markdown",
      "metadata": {
        "id": "6-8b-nUuv_d0"
      },
      "source": [
        "### Python list bilan NumPy kutubxonasidagi massivlar (arraylar) hisoblashlari orasidagi farqni ko'ramiz."
      ]
    },
    {
      "cell_type": "code",
      "execution_count": 4,
      "metadata": {
        "id": "s6H6y89X3JC1"
      },
      "outputs": [],
      "source": [
        "my_list = list(range(100000)) # python list 0~99999 -->Normal\n",
        "my_array = np.array(range(100000)) # numpy array(massiv) 0~99999 --> Vektorlashgan"
      ]
    },
    {
      "cell_type": "code",
      "execution_count": 7,
      "metadata": {
        "colab": {
          "base_uri": "https://localhost:8080/"
        },
        "id": "942vkLi3BXa3",
        "outputId": "55910dc2-4065-4830-c4df-b0dd76268448"
      },
      "outputs": [
        {
          "output_type": "stream",
          "name": "stdout",
          "text": [
            "CPU times: user 59.9 ms, sys: 15.4 ms, total: 75.2 ms\n",
            "Wall time: 93.6 ms\n"
          ]
        }
      ],
      "source": [
        "%time for _ in range(10): [x*2 for x in my_list] # Normal"
      ]
    },
    {
      "cell_type": "code",
      "execution_count": 8,
      "metadata": {
        "colab": {
          "base_uri": "https://localhost:8080/"
        },
        "id": "_WjBPHE2Gy00",
        "outputId": "f5ba26da-06e5-44ba-b0a6-415334823d96"
      },
      "outputs": [
        {
          "output_type": "stream",
          "name": "stdout",
          "text": [
            "CPU times: user 2.02 ms, sys: 0 ns, total: 2.02 ms\n",
            "Wall time: 1.37 ms\n"
          ]
        }
      ],
      "source": [
        "%time for _ in range(10): my_array*2 # Vektorlashgan"
      ]
    },
    {
      "cell_type": "code",
      "execution_count": 9,
      "metadata": {
        "colab": {
          "base_uri": "https://localhost:8080/"
        },
        "id": "jBYf5dBVHY-M",
        "outputId": "9ba0d793-3040-4d29-8470-c98eb112a27a"
      },
      "outputs": [
        {
          "output_type": "execute_result",
          "data": {
            "text/plain": [
              "67.88321167883211"
            ]
          },
          "metadata": {},
          "execution_count": 9
        }
      ],
      "source": [
        "93/1.37"
      ]
    },
    {
      "cell_type": "code",
      "source": [],
      "metadata": {
        "id": "IhPdsBvQopVm"
      },
      "execution_count": null,
      "outputs": []
    }
  ],
  "metadata": {
    "colab": {
      "name": "#0_numpy_intro.ipynb",
      "provenance": []
    },
    "language_info": {
      "name": "python"
    },
    "kernelspec": {
      "name": "python3",
      "display_name": "Python 3"
    }
  },
  "nbformat": 4,
  "nbformat_minor": 0
}